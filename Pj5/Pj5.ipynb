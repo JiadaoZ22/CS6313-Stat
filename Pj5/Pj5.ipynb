{
 "cells": [
  {
   "cell_type": "markdown",
   "metadata": {},
   "source": [
    "# Mini Project 5 Report\n",
    "## Jiadao Zou, jxz172230"
   ]
  },
  {
   "cell_type": "markdown",
   "metadata": {},
   "source": [
    "# Q1"
   ]
  },
  {
   "cell_type": "code",
   "execution_count": 1,
   "metadata": {},
   "outputs": [],
   "source": [
    "import pandas as pd\n",
    "%matplotlib inline\n",
    "import matplotlib.pyplot as plt\n",
    "import numpy as np\n",
    "from scipy import stats\n",
    "import statsmodels.api as sm\n",
    "import seaborn as sns"
   ]
  },
  {
   "cell_type": "code",
   "execution_count": 2,
   "metadata": {},
   "outputs": [],
   "source": [
    "bh = pd.read_csv(\"bodytemp-heartrate.csv\")"
   ]
  },
  {
   "cell_type": "code",
   "execution_count": 3,
   "metadata": {},
   "outputs": [
    {
     "data": {
      "text/html": [
       "<div>\n",
       "<style scoped>\n",
       "    .dataframe tbody tr th:only-of-type {\n",
       "        vertical-align: middle;\n",
       "    }\n",
       "\n",
       "    .dataframe tbody tr th {\n",
       "        vertical-align: top;\n",
       "    }\n",
       "\n",
       "    .dataframe thead th {\n",
       "        text-align: right;\n",
       "    }\n",
       "</style>\n",
       "<table border=\"1\" class=\"dataframe\">\n",
       "  <thead>\n",
       "    <tr style=\"text-align: right;\">\n",
       "      <th></th>\n",
       "      <th>body_temperature</th>\n",
       "      <th>gender</th>\n",
       "      <th>heart_rate</th>\n",
       "    </tr>\n",
       "  </thead>\n",
       "  <tbody>\n",
       "    <tr>\n",
       "      <th>0</th>\n",
       "      <td>96.3</td>\n",
       "      <td>1</td>\n",
       "      <td>70</td>\n",
       "    </tr>\n",
       "    <tr>\n",
       "      <th>1</th>\n",
       "      <td>96.7</td>\n",
       "      <td>1</td>\n",
       "      <td>71</td>\n",
       "    </tr>\n",
       "    <tr>\n",
       "      <th>2</th>\n",
       "      <td>96.9</td>\n",
       "      <td>1</td>\n",
       "      <td>74</td>\n",
       "    </tr>\n",
       "  </tbody>\n",
       "</table>\n",
       "</div>"
      ],
      "text/plain": [
       "   body_temperature  gender  heart_rate\n",
       "0              96.3       1          70\n",
       "1              96.7       1          71\n",
       "2              96.9       1          74"
      ]
     },
     "execution_count": 3,
     "metadata": {},
     "output_type": "execute_result"
    }
   ],
   "source": [
    "bh.head(3)"
   ]
  },
  {
   "cell_type": "code",
   "execution_count": 4,
   "metadata": {},
   "outputs": [],
   "source": [
    "bh_male = bh[bh[\"gender\"] == 1]\n",
    "bh_female = bh[bh[\"gender\"] == 2]"
   ]
  },
  {
   "cell_type": "markdown",
   "metadata": {},
   "source": [
    "## (a)"
   ]
  },
  {
   "cell_type": "code",
   "execution_count": 5,
   "metadata": {},
   "outputs": [],
   "source": [
    "def normCI(data, confidence=0.95):\n",
    "    a = 1.0 * np.array(data)\n",
    "    n = len(a)\n",
    "    m, se = np.mean(a), stats.sem(a)\n",
    "    h = se * stats.norm.ppf((1 + confidence) / 2.)\n",
    "    #     return m, m-h, m+h\n",
    "    print(\"From {:0.2%}\".format(confidence),\"confidence interval analysis of normal distribution, mean is %f, lower bound is %f, upper bound is %f\" %(m, m-h, m+h))"
   ]
  },
  {
   "cell_type": "code",
   "execution_count": 6,
   "metadata": {},
   "outputs": [
    {
     "name": "stdout",
     "output_type": "stream",
     "text": [
      "Male:\n",
      "normal Confidence Interval for male:\n",
      "From 95.00% confidence interval analysis of normal distribution, mean is 98.104615, lower bound is 97.934745, upper bound is 98.274485\n",
      "IQR of male's body tempertaure is 1.0.\n"
     ]
    },
    {
     "data": {
      "text/plain": [
       "count    65.000000\n",
       "mean     98.104615\n",
       "std       0.698756\n",
       "min      96.300000\n",
       "25%      97.600000\n",
       "50%      98.100000\n",
       "75%      98.600000\n",
       "max      99.500000\n",
       "Name: body_temperature, dtype: float64"
      ]
     },
     "execution_count": 6,
     "metadata": {},
     "output_type": "execute_result"
    }
   ],
   "source": [
    "print(\"Male:\")\n",
    "print(\"normal Confidence Interval for male:\")\n",
    "normCI(bh_male[\"body_temperature\"])\n",
    "print(\"IQR of male's body tempertaure is {:0.3}.\".format(bh_male[\"body_temperature\"].quantile(.75) - bh_male[\"body_temperature\"].quantile(.25)))\n",
    "bh_male[\"body_temperature\"].describe()"
   ]
  },
  {
   "cell_type": "code",
   "execution_count": 7,
   "metadata": {},
   "outputs": [
    {
     "name": "stdout",
     "output_type": "stream",
     "text": [
      "Female:\n",
      "normal Confidence Interval for female:\n",
      "From 95.00% confidence interval analysis of normal distribution, mean is 98.393846, lower bound is 98.213102, upper bound is 98.574591\n",
      "IQR of female's body tempertaure is 0.8.\n"
     ]
    },
    {
     "data": {
      "text/plain": [
       "count     65.000000\n",
       "mean      98.393846\n",
       "std        0.743488\n",
       "min       96.400000\n",
       "25%       98.000000\n",
       "50%       98.400000\n",
       "75%       98.800000\n",
       "max      100.800000\n",
       "Name: body_temperature, dtype: float64"
      ]
     },
     "execution_count": 7,
     "metadata": {},
     "output_type": "execute_result"
    }
   ],
   "source": [
    "print(\"Female:\")\n",
    "print(\"normal Confidence Interval for female:\")\n",
    "normCI(bh_female[\"body_temperature\"])\n",
    "print(\"IQR of female's body tempertaure is {:0.3}.\".format(bh_female[\"body_temperature\"].quantile(.75) - bh_female[\"body_temperature\"].quantile(.25)))\n",
    "bh_female[\"body_temperature\"].describe()"
   ]
  },
  {
   "cell_type": "code",
   "execution_count": 8,
   "metadata": {},
   "outputs": [
    {
     "data": {
      "image/png": "[encoded data removed]",
      "text/plain": [
       "<Figure size 432x288 with 1 Axes>"
      ]
     },
     "metadata": {
      "needs_background": "light"
     },
     "output_type": "display_data"
    }
   ],
   "source": [
    "fig1 = sns.boxplot(data=bh, x='gender', y='body_temperature')"
   ]
  },
  {
   "cell_type": "markdown",
   "metadata": {},
   "source": [
    "**Answer**\n",
    "> Above boxplot, IQR information and CI analysis tells us that there is a bit difference (0.2 degree)_in mean body temperature of male and female in this sample. Meantime, we also notice that female's group has some outlires while male's group's doesn't have such scenario."
   ]
  },
  {
   "cell_type": "markdown",
   "metadata": {},
   "source": [
    "## (b)"
   ]
  },
  {
   "cell_type": "code",
   "execution_count": 9,
   "metadata": {},
   "outputs": [
    {
     "name": "stdout",
     "output_type": "stream",
     "text": [
      "Male:\n",
      "From 95.00% confidence interval analysis of normal distribution, mean is 73.369231, lower bound is 71.940952, upper bound is 74.797509\n",
      "IQR of male's heart rate is 8.0.\n"
     ]
    },
    {
     "data": {
      "text/plain": [
       "count    65.000000\n",
       "mean     73.369231\n",
       "std       5.875184\n",
       "min      58.000000\n",
       "25%      70.000000\n",
       "50%      73.000000\n",
       "75%      78.000000\n",
       "max      86.000000\n",
       "Name: heart_rate, dtype: float64"
      ]
     },
     "execution_count": 9,
     "metadata": {},
     "output_type": "execute_result"
    }
   ],
   "source": [
    "print(\"Male:\")\n",
    "normCI(bh_male[\"heart_rate\"])\n",
    "print(\"IQR of male's heart rate is {:0.3}.\".format(bh_male[\"heart_rate\"].quantile(.75) - bh_male[\"heart_rate\"].quantile(.25)))\n",
    "bh_male[\"heart_rate\"].describe()"
   ]
  },
  {
   "cell_type": "code",
   "execution_count": 10,
   "metadata": {},
   "outputs": [
    {
     "name": "stdout",
     "output_type": "stream",
     "text": [
      "Female:\n",
      "From 95.00% confidence interval analysis of normal distribution, mean is 74.153846, lower bound is 72.183436, upper bound is 76.124256\n",
      "IQR of female's heart rate is 12.0.\n"
     ]
    },
    {
     "data": {
      "text/plain": [
       "count    65.000000\n",
       "mean     74.153846\n",
       "std       8.105227\n",
       "min      57.000000\n",
       "25%      68.000000\n",
       "50%      76.000000\n",
       "75%      80.000000\n",
       "max      89.000000\n",
       "Name: heart_rate, dtype: float64"
      ]
     },
     "execution_count": 10,
     "metadata": {},
     "output_type": "execute_result"
    }
   ],
   "source": [
    "print(\"Female:\")\n",
    "normCI(bh_female[\"heart_rate\"])\n",
    "print(\"IQR of female's heart rate is {:0.3}.\".format(bh_female[\"heart_rate\"].quantile(.75) - bh_female[\"heart_rate\"].quantile(.25)))\n",
    "bh_female[\"heart_rate\"].describe()"
   ]
  },
  {
   "cell_type": "code",
   "execution_count": 11,
   "metadata": {},
   "outputs": [
    {
     "data": {
      "image/png": "[encoded data removed]",
      "text/plain": [
       "<Figure size 432x288 with 1 Axes>"
      ]
     },
     "metadata": {
      "needs_background": "light"
     },
     "output_type": "display_data"
    }
   ],
   "source": [
    "fig2 = sns.boxplot(data=bh, x='gender', y='heart_rate')"
   ]
  },
  {
   "cell_type": "markdown",
   "metadata": {},
   "source": [
    "**Answer**\n",
    "> bove boxplot, IQR information and CI analysis tells us that there is a bit difference (0.8)_in mean heart rate of male and female in this sample. "
   ]
  },
  {
   "cell_type": "markdown",
   "metadata": {},
   "source": [
    "## (c)"
   ]
  },
  {
   "cell_type": "markdown",
   "metadata": {},
   "source": [
    "> print plot for each gender"
   ]
  },
  {
   "cell_type": "code",
   "execution_count": 12,
   "metadata": {},
   "outputs": [
    {
     "data": {
      "image/png": "[encoded data removed]",
      "text/plain": [
       "<Figure size 432x288 with 1 Axes>"
      ]
     },
     "metadata": {
      "needs_background": "light"
     },
     "output_type": "display_data"
    },
    {
     "name": "stdout",
     "output_type": "stream",
     "text": [
      "Correlation coefficeient for male is: 0.1956\n"
     ]
    }
   ],
   "source": [
    "plt.title(\"scatter plot for Male\")\n",
    "plt.xlabel(\"body_temperature\")\n",
    "plt.ylabel(\"heart_rate\")\n",
    "plt.scatter(x=bh_male[\"body_temperature\"], y=bh_male[\"heart_rate\"])\n",
    "plt.show()\n",
    "print(\"Correlation coefficeient for male is: {:0.4}\".format(bh_male[\"body_temperature\"].corr(bh_male[\"heart_rate\"])))"
   ]
  },
  {
   "cell_type": "code",
   "execution_count": 13,
   "metadata": {},
   "outputs": [
    {
     "data": {
      "image/png": "[encoded data removed]",
      "text/plain": [
       "<Figure size 432x288 with 1 Axes>"
      ]
     },
     "metadata": {
      "needs_background": "light"
     },
     "output_type": "display_data"
    },
    {
     "name": "stdout",
     "output_type": "stream",
     "text": [
      "Correlation coefficeient for female is: 0.2869\n"
     ]
    }
   ],
   "source": [
    "plt.title(\"scatter plot for Female\")\n",
    "plt.xlabel(\"body_temperature\")\n",
    "plt.ylabel(\"heart_rate\")\n",
    "plt.scatter(x=bh_female[\"body_temperature\"], y=bh_female[\"heart_rate\"])\n",
    "plt.show()\n",
    "print(\"Correlation coefficeient for female is: {:0.4}\".format(bh_female[\"body_temperature\"].corr(bh_female[\"heart_rate\"])))"
   ]
  },
  {
   "cell_type": "markdown",
   "metadata": {},
   "source": [
    "**Answer**  \n",
    "> It is hard to say there exist strong liner relationship between body temperature and heart rate from the plots above.  \n",
    "    Also we know that:  \n",
    "        1. 0 indicates no linear relationship.\n",
    "        2. +1 indicates a perfect positive linear relationship.\n",
    "        3. -1 indicates a perfect negative linear relationship.\n",
    "        4. Values between 0 and 0.3 (0 and -0.3) indicate a weak positive (negative) linear relationship via a shaky linear rule.\n",
    "        5. Values between 0.3 and 0.7 (-0.3 and -0.7) indicate a moderate positive (negative) linear relationship via a fuzzy-firm linear rule.\n",
    "        6. Values between 0.7 and 1.0 (-0.7 and -1.0) indicate a strong positive (negative) linear relationship via a firm linear rule.  \n",
    "  Now look at the correlation coefficient, it tells us that both gender have a linear relationship of two factors, however, they are both weak realtionship while male group's linear relationship is weaker than female's."
   ]
  },
  {
   "cell_type": "markdown",
   "metadata": {},
   "source": [
    "# Q2"
   ]
  },
  {
   "cell_type": "code",
   "execution_count": 14,
   "metadata": {},
   "outputs": [],
   "source": [
    "import bootstrapped.bootstrap as bs\n",
    "import bootstrapped.stats_functions as bs_stats"
   ]
  },
  {
   "cell_type": "code",
   "execution_count": 15,
   "metadata": {},
   "outputs": [],
   "source": [
    "nSet = pd.Series([5, 10, 30, 100])\n",
    "laSet = pd.Series([0.01, 0.1, 1, 10])\n",
    "alpha = 0.05"
   ]
  },
  {
   "cell_type": "code",
   "execution_count": 16,
   "metadata": {},
   "outputs": [],
   "source": [
    "def tCI(data, confidence=1-alpha):\n",
    "    a = 1.0 * np.array(data)\n",
    "    n = len(a)\n",
    "    m, se = np.mean(a), stats.sem(a)\n",
    "    h = se * stats.t.ppf((1 + confidence) / 2., n-1)\n",
    "    return m, m-h, m+h\n",
    "#    print(\"From {:0.2%}\".format(confidence),\"confidence interval analysis of t-student distribution, mean is %f, lower bound is %f, upper bound is %f\" %(m, m-h, m+h))"
   ]
  },
  {
   "cell_type": "markdown",
   "metadata": {},
   "source": [
    "> (a)"
   ]
  },
  {
   "cell_type": "code",
   "execution_count": 17,
   "metadata": {},
   "outputs": [],
   "source": [
    "# Monte Carlo Method\n",
    "def MC1(n, la, rep=5000):\n",
    "    CI1_correctCount = CI2_correctCount = CI1_UP = CI1_LO = CI2_UP = CI2_LO = 0\n",
    "    \n",
    "    for x in range(rep):\n",
    "        mu = 1/la\n",
    "        samples = np.random.exponential(scale=mu, size=n)\n",
    "        \n",
    "        # CI-1: t-distribution\n",
    "#         tRes = stats.t.interval(0.95, len(samples)-1, loc=np.mean(samples), scale=stats.sem(samples))\n",
    "#         CI1_lo = tRes[0]\n",
    "#         CI1_up = tRes[1]\n",
    "        _, CI1_lo, CI1_up = tCI(samples)\n",
    "        CI1_LO += CI1_lo/rep\n",
    "        CI1_UP += CI1_up/rep\n",
    "        if (mu >= CI1_lo) and (mu <= CI1_up):\n",
    "            CI1_correctCount += 1\n",
    "        # CI-2: Bootstrap\n",
    "        CI2 = bs.bootstrap(samples, stat_func=bs_stats.mean, alpha=alpha)\n",
    "        CI2_LO += CI2.lower_bound/rep\n",
    "        CI2_UP += CI2.upper_bound/rep\n",
    "        if (mu >= CI2.lower_bound) and (mu <= CI2.upper_bound):\n",
    "            CI2_correctCount += 1\n",
    "    print(\"For n = {} and lambda = {} :\".format(n, la))        \n",
    "    print(\"CI1 t-Distribution correctness: {:%}. CI is [{}, {}].\".format(CI1_correctCount/rep, CI1_LO, CI1_UP))\n",
    "    print(\"CI2 Bootstrap correctness: {:%}. CI is [{}, {}].\".format(CI2_correctCount/rep, CI2_LO, CI2_UP))\n",
    "#     return CI1_correctCount/rep, CI2_correctCount/rep"
   ]
  },
  {
   "cell_type": "code",
   "execution_count": 18,
   "metadata": {},
   "outputs": [
    {
     "name": "stdout",
     "output_type": "stream",
     "text": [
      "For n = 5 and lambda = 0.1 :\n",
      "CI1 t-Distribution correctness: 100.000000%. CI is [-1.1031061830578313, 20.80342930332276].\n",
      "CI2 Bootstrap correctness: 90.000000%. CI is [2.4039718375038355, 15.875037904618548].\n"
     ]
    }
   ],
   "source": [
    "MC1(5, 0.1, rep=30)"
   ]
  },
  {
   "cell_type": "markdown",
   "metadata": {},
   "source": [
    "> (b)"
   ]
  },
  {
   "cell_type": "code",
   "execution_count": 19,
   "metadata": {},
   "outputs": [],
   "source": [
    "def MCplotting(sample_size, laSet, rep=5000):\n",
    "    \n",
    "    for la in laSet:\n",
    "        bootstrap_results = []\n",
    "        normal_results = []\n",
    "        \n",
    "        for n in sample_size:\n",
    "            bootstrap_tmps = np.array([0, 0], dtype='float')\n",
    "            normal_tmps =  np.array([0, 0], dtype='float')\n",
    "            mean_result = 0\n",
    "            for rr in range(rep):\n",
    "                mu = 1/la\n",
    "                samples = np.random.exponential(scale=mu, size=n)\n",
    "                mean_result += samples.mean()/rep\n",
    "                bsr = bs.bootstrap(samples, stat_func=bs_stats.mean, alpha=0.05)\n",
    "                mr = stats.t.interval(1-0.05, len(samples)-1, loc=np.mean(samples), scale=stats.sem(samples))\n",
    "                \n",
    "                bootstrap_tmps += np.array([bsr.lower_bound, bsr.upper_bound]) /rep\n",
    "                \n",
    "                normal_tmps += np.array(mr)/rep\n",
    "            \n",
    "            bootstrap_results.append(tuple(bootstrap_tmps))\n",
    "            normal_results.append(tuple(normal_tmps))\n",
    "        \n",
    "        plt.plot(sample_size, [x[1] for x in bootstrap_results], c='blue', marker='.')\n",
    "        plt.plot(sample_size, [x[1] for x in normal_results], linestyle='--', c='orange', marker='.')\n",
    "\n",
    "        plt.plot(sample_size, [x[0] for x in bootstrap_results], c='blue', \n",
    "                 label='Bootstrap', marker='.')\n",
    "        plt.plot(sample_size, [x[0] for x in normal_results], linestyle='--', c='orange', \n",
    "                 label='t-distribution', marker='.')\n",
    "\n",
    "        plt.axhline(mean_result, c='black', label='True Mean')\n",
    "\n",
    "#         plt.axvline(x=10, c='red',linewidth=.5)\n",
    "\n",
    "        plt.legend(loc='best')\n",
    "        plt.title('t-distribution vs Bootstrap with lambda is {}.'.format(la))\n",
    "        plt.xlabel(\"sample size\")\n",
    "        plt.show()"
   ]
  },
  {
   "cell_type": "code",
   "execution_count": 20,
   "metadata": {},
   "outputs": [
    {
     "data": {
      "image/png": "[encoded data removed]",
      "text/plain": [
       "<Figure size 432x288 with 1 Axes>"
      ]
     },
     "metadata": {
      "needs_background": "light"
     },
     "output_type": "display_data"
    },
    {
     "data": {
      "image/png": "[encoded data removed]",
      "text/plain": [
       "<Figure size 432x288 with 1 Axes>"
      ]
     },
     "metadata": {
      "needs_background": "light"
     },
     "output_type": "display_data"
    },
    {
     "data": {
      "image/png": "[encoded data removed]",
      "text/plain": [
       "<Figure size 432x288 with 1 Axes>"
      ]
     },
     "metadata": {
      "needs_background": "light"
     },
     "output_type": "display_data"
    },
    {
     "data": {
      "image/png": "[encoded data removed]",
      "text/plain": [
       "<Figure size 432x288 with 1 Axes>"
      ]
     },
     "metadata": {
      "needs_background": "light"
     },
     "output_type": "display_data"
    }
   ],
   "source": [
    "MCplotting(nSet, laSet, rep=5000)"
   ]
  },
  {
   "cell_type": "markdown",
   "metadata": {},
   "source": [
    "**Answer**\n",
    "> - First, we all know that t-distribution is an approximation to normal distribution when sample size is large. To hold the same confidence level when sample size is small, the tail is relatively heavy and make interval wider. \n",
    "- Cause the number is not straight-forward, here I choose line graph to compare two algorithms.  \n",
    "- As you can see, the CI of t-student distribution is always wider than Bootstrap's, which indicates Bootstrap's describing capability is better than t-student distribution especially in cases that sample size is small. Because, under same confident level of 95%, thinner the CI is, accurater the model is. However, when sample size growing larger, like when it is 100, the difference of two distribution is unable to see.  \n",
    "- Also, with lambda $\\lambda$ goes larger, the difference of two models becomes smaller according to data of Y labels.\n",
    "- Since we know that for Exponential distribution, $\\mu={{1}\\over{\\lambda}}$, and $var={{1}\\over{\\lambda^2}}$, that is why with $\\lambda$ going higher, the gap betwwen upper bound and lower bound decreases. "
   ]
  },
  {
   "cell_type": "markdown",
   "metadata": {},
   "source": [
    "> (c)"
   ]
  },
  {
   "cell_type": "markdown",
   "metadata": {},
   "source": [
    "**Answer**\n",
    "> - From the graph above, 30 is a large enough sample size for t-distribution to get almost the same result from Bootstrap.\n",
    "- In case of the bootstrap interval, 30 is also the number ensure the population mean drop inside the CI and IQR is monotonously decreasing afterwards.\n",
    "- Obviously, these answers don't depend on $\\lambda$\n",
    "- Normally, we could say Boostrap is better than t-stundent distribution when sample size is small. However, the scenario is not always holding because we should also take the computation resource (time/ memory) cost into consideration.\n",
    "- Therefore, if I don't need to worry about computing and only considering about accuracy or when sample size is very small(<< 30), I would use Bootstrap. If I ask for speed and smaple size is large enough, t-student interval is better."
   ]
  },
  {
   "cell_type": "markdown",
   "metadata": {},
   "source": [
    "> (d)"
   ]
  },
  {
   "cell_type": "markdown",
   "metadata": {},
   "source": [
    "**Answer**\n",
    "> - The answer is depent on $\\lambda$, because we could see that different curves have same trend. \n",
    "- Though the CI would decrease with the $\\lambda$ icnreasing, however, from the view of proportion, no matter CI of t-distribution or bootstrap has the same  trend."
   ]
  },
  {
   "cell_type": "markdown",
   "metadata": {},
   "source": [
    "# Reference\n",
    "> https://365datascience.com/linear-regression/"
   ]
  }
 ],
 "metadata": {
  "kernelspec": {
   "display_name": "Python 3",
   "language": "python",
   "name": "python3"
  },
  "language_info": {
   "codemirror_mode": {
    "name": "ipython",
    "version": 3
   },
   "file_extension": ".py",
   "mimetype": "text/x-python",
   "name": "python",
   "nbconvert_exporter": "python",
   "pygments_lexer": "ipython3",
   "version": "3.7.2"
  }
 },
 "nbformat": 4,
 "nbformat_minor": 2
}
