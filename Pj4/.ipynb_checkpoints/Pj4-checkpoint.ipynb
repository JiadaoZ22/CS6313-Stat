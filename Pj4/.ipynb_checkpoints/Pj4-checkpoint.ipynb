{
 "cells": [
  {
   "cell_type": "markdown",
   "metadata": {},
   "source": [
    "# Project Code"
   ]
  },
  {
   "cell_type": "code",
   "execution_count": 51,
   "metadata": {},
   "outputs": [],
   "source": [
    "import pandas as pd\n",
    "%matplotlib inline\n",
    "import matplotlib.pyplot as plt\n",
    "import numpy as np\n",
    "from scipy import stats"
   ]
  },
  {
   "cell_type": "code",
   "execution_count": 2,
   "metadata": {},
   "outputs": [],
   "source": [
    "#############\n",
    "### Problem 1"
   ]
  },
  {
   "cell_type": "code",
   "execution_count": 3,
   "metadata": {},
   "outputs": [],
   "source": [
    "gpa = pd.read_csv(\"gpa.csv\")"
   ]
  },
  {
   "cell_type": "code",
   "execution_count": 4,
   "metadata": {},
   "outputs": [
    {
     "data": {
      "text/html": [
       "<div>\n",
       "<style scoped>\n",
       "    .dataframe tbody tr th:only-of-type {\n",
       "        vertical-align: middle;\n",
       "    }\n",
       "\n",
       "    .dataframe tbody tr th {\n",
       "        vertical-align: top;\n",
       "    }\n",
       "\n",
       "    .dataframe thead th {\n",
       "        text-align: right;\n",
       "    }\n",
       "</style>\n",
       "<table border=\"1\" class=\"dataframe\">\n",
       "  <thead>\n",
       "    <tr style=\"text-align: right;\">\n",
       "      <th></th>\n",
       "      <th>gpa</th>\n",
       "      <th>act</th>\n",
       "    </tr>\n",
       "  </thead>\n",
       "  <tbody>\n",
       "    <tr>\n",
       "      <th>0</th>\n",
       "      <td>3.897</td>\n",
       "      <td>21</td>\n",
       "    </tr>\n",
       "    <tr>\n",
       "      <th>1</th>\n",
       "      <td>3.885</td>\n",
       "      <td>14</td>\n",
       "    </tr>\n",
       "    <tr>\n",
       "      <th>2</th>\n",
       "      <td>3.778</td>\n",
       "      <td>28</td>\n",
       "    </tr>\n",
       "  </tbody>\n",
       "</table>\n",
       "</div>"
      ],
      "text/plain": [
       "     gpa  act\n",
       "0  3.897   21\n",
       "1  3.885   14\n",
       "2  3.778   28"
      ]
     },
     "execution_count": 4,
     "metadata": {},
     "output_type": "execute_result"
    }
   ],
   "source": [
    "gpa.head(3)\n",
    "#gpa.describe()"
   ]
  },
  {
   "cell_type": "code",
   "execution_count": 24,
   "metadata": {},
   "outputs": [
    {
     "data": {
      "image/png": "[encoded data removed]",
      "text/plain": [
       "<Figure size 432x288 with 1 Axes>"
      ]
     },
     "metadata": {
      "needs_background": "light"
     },
     "output_type": "display_data"
    }
   ],
   "source": [
    "fig1_1 = gpa.plot.scatter(x='gpa', y='act')"
   ]
  },
  {
   "cell_type": "code",
   "execution_count": 6,
   "metadata": {},
   "outputs": [
    {
     "data": {
      "text/plain": [
       "0.2694818032662637"
      ]
     },
     "execution_count": 6,
     "metadata": {},
     "output_type": "execute_result"
    }
   ],
   "source": [
    "cor = gpa['gpa'].corr(gpa['act'])\n",
    "cor"
   ]
  },
  {
   "cell_type": "code",
   "execution_count": 7,
   "metadata": {},
   "outputs": [],
   "source": [
    "# Nonparametric Bootstrap\n",
    "import bootstrapped.bootstrap as bs\n",
    "import bootstrapped.stats_functions as bs_stats"
   ]
  },
  {
   "cell_type": "code",
   "execution_count": 54,
   "metadata": {},
   "outputs": [],
   "source": [
    "# def pearsonr_ci(x,y,confidence=0.95):\n",
    "#     ''' calculate Pearson correlation along with the confidence interval using scipy and numpy\n",
    "#     Parameters\n",
    "#     ----------\n",
    "#     x, y : iterable object such as a list or np.array\n",
    "#       Input for correlation calculation\n",
    "#     alpha : float\n",
    "#       Significance level. 0.05 by default\n",
    "#     Returns\n",
    "#     -------\n",
    "#     r : float\n",
    "#       Pearson's correlation coefficient\n",
    "#     pval : float\n",
    "#       The corresponding p value\n",
    "#     lo, hi : float\n",
    "#       The lower and upper bound of confidence intervals\n",
    "#     '''\n",
    "#     alpha = 1 - confidence\n",
    "#     r, p = stats.pearsonr(x,y)\n",
    "#     r_z = np.arctanh(r)\n",
    "#     se = 1/np.sqrt(x.size-3)\n",
    "#     z = stats.norm.ppf(1-alpha/2)\n",
    "#     lo_z, hi_z = r_z-z*se, r_z+z*se\n",
    "#     lo, hi = np.tanh((lo_z, hi_z))\n",
    "#     print(\"Pearson's correlation coefficient is %f, p-value is %f, lower bound is %f, upper bound is %f\" %(r, p, lo, hi))"
   ]
  },
  {
   "cell_type": "code",
   "execution_count": 8,
   "metadata": {},
   "outputs": [],
   "source": [
    "# repl = 10000\n",
    "\n",
    "# population = np.random.normal(loc=mean, scale=stdev, size=50000)\n",
    "\n",
    "# # take 1k 'samples' from the larger population\n",
    "# samples = population[:1000]\n",
    "\n",
    "# print(bs.bootstrap(samples))"
   ]
  },
  {
   "cell_type": "markdown",
   "metadata": {},
   "source": [
    "# R code in the following\n",
    "```\n",
    "my <- read.csv(file = \"/home/jiadao/Code/Github/CS6313-Stat/Pj4/gpa.csv\", header = TRUE, sep = \",\") \n",
    "df <- data.frame(my)\n",
    "n = nrow(df)\n",
    "Brep = 10000\n",
    "\n",
    "# Bootstrap the correlation coefficient\n",
    "cc <- function(d,i=c(1:n)){\n",
    "        d2 <- d[i,]\n",
    "        return(cor(d2$gpa,d2$act))\n",
    "     }\n",
    "bootcorr <- boot(data=df,statistic=cc,R=Brep)\n",
    "bootcorr\n",
    "        ORDINARY NONPARAMETRIC BOOTSTRAP\n",
    "    \n",
    "        Call:\n",
    "        boot(data = df, statistic = cc, R = Brep)\n",
    "\n",
    "        Bootstrap Statistics :\n",
    "            original      bias    std. error\n",
    "        t1* 0.2694818 0.003035951   0.1060727\n",
    "boot.ci(bootcorr,conf=.95)\n",
    "        BOOTSTRAP CONFIDENCE INTERVAL CALCULATIONS\n",
    "        Based on 10000 bootstrap replicates\n",
    "\n",
    "        CALL : \n",
    "        boot.ci(boot.out = bootcorr, conf = 0.95)\n",
    "\n",
    "        Intervals : \n",
    "        Level      Normal              Basic         \n",
    "        95%   ( 0.0585,  0.4743 )   ( 0.0581,  0.4738 )  \n",
    "\n",
    "        Level     Percentile            BCa          \n",
    "        95%   ( 0.0652,  0.4809 )   ( 0.0414,  0.4604 )  \n",
    "        Calculations and Intervals on Original Scale\n",
    "```"
   ]
  },
  {
   "cell_type": "code",
   "execution_count": 10,
   "metadata": {},
   "outputs": [],
   "source": [
    "#############\n",
    "### Problem 2"
   ]
  },
  {
   "cell_type": "code",
   "execution_count": 14,
   "metadata": {},
   "outputs": [],
   "source": [
    "volt = pd.read_csv(\"VOLTAGE.csv\")"
   ]
  },
  {
   "cell_type": "code",
   "execution_count": 49,
   "metadata": {},
   "outputs": [
    {
     "name": "stdout",
     "output_type": "stream",
     "text": [
      "sample number of LOCAL is 30 and sample number of REMOTE is 30\n"
     ]
    }
   ],
   "source": [
    "volt_loc = volt.loc[volt[\"location\"] == 1]\n",
    "volt_rem = volt.loc[volt[\"location\"] == 0]\n",
    "print(\"sample number of LOCAL is %d and sample number of REMOTE is %d\" %(len(volt_loc), len(volt_rem)))\n",
    "# plt.scatter(volt_loc[],volt_loc['locat'])\n",
    "# plt.title(\"title\")\n",
    "# plt.xlabel(\"x-label\")\n",
    "# plt.ylabel(\"y-label\")\n",
    "# plt.show()"
   ]
  },
  {
   "cell_type": "code",
   "execution_count": 45,
   "metadata": {},
   "outputs": [
    {
     "data": {
      "image/png": "[encoded data removed]",
      "text/plain": [
       "<Figure size 432x288 with 1 Axes>"
      ]
     },
     "metadata": {
      "needs_background": "light"
     },
     "output_type": "display_data"
    }
   ],
   "source": [
    "import seaborn as sns\n",
    "fig2 = sns.boxplot(data=volt, x='location', y='voltage')"
   ]
  },
  {
   "cell_type": "code",
   "execution_count": 141,
   "metadata": {},
   "outputs": [],
   "source": [
    "def tCI(data, confidence=0.95):\n",
    "    a = 1.0 * np.array(data)\n",
    "    n = len(a)\n",
    "    m, se = np.mean(a), stats.sem(a)\n",
    "    h = se * stats.t.ppf((1 + confidence) / 2., n-1)\n",
    "#     return m, m-h, m+h\n",
    "    print(\"From {:0.2%}\".format(confidence),\"confidence interval analysis of t-student distribution, mean is %f, lower bound is %f, upper bound is %f\" %(m, m-h, m+h))\n",
    "    \n",
    "def normCI(data, confidence=0.95):\n",
    "    a = 1.0 * np.array(data)\n",
    "    n = len(a)\n",
    "    m, se = np.mean(a), stats.sem(a)\n",
    "    h = se * stats.t.ppf((1 + confidence) / 2., n-1)\n",
    "#     return m, m-h, m+h\n",
    "    print(\"From {:0.2%}\".format(confidence),\"confidence interval analysis of normal distribution, mean is %f, lower bound is %f, upper bound is %f\" %(m, m-h, m+h))"
   ]
  },
  {
   "cell_type": "code",
   "execution_count": 142,
   "metadata": {},
   "outputs": [
    {
     "name": "stdout",
     "output_type": "stream",
     "text": [
      "From 95.00% confidence interval analysis of t-student distribution, mean is 9.803667, lower bound is 9.601686, upper bound is 10.005648\n"
     ]
    }
   ],
   "source": [
    "tCI(volt_rem['voltage'])"
   ]
  },
  {
   "cell_type": "code",
   "execution_count": 129,
   "metadata": {},
   "outputs": [
    {
     "name": "stdout",
     "output_type": "stream",
     "text": [
      "From 95.00% confidence interval analysis, mean is 9.422333, lower bound is 9.243518, upper bound is 9.601148\n"
     ]
    }
   ],
   "source": [
    "mean_confidence_interval(volt_loc['voltage'])"
   ]
  },
  {
   "cell_type": "code",
   "execution_count": 11,
   "metadata": {},
   "outputs": [],
   "source": [
    "#############\n",
    "### Problem 3"
   ]
  },
  {
   "cell_type": "code",
   "execution_count": 131,
   "metadata": {},
   "outputs": [],
   "source": [
    "vapor = pd.read_csv(\"VAPOR.csv\")"
   ]
  },
  {
   "cell_type": "code",
   "execution_count": 135,
   "metadata": {},
   "outputs": [],
   "source": [
    "vapor['diff'] = vapor['theoretical'] - vapor['experimental']"
   ]
  },
  {
   "cell_type": "code",
   "execution_count": 139,
   "metadata": {},
   "outputs": [
    {
     "data": {
      "text/html": [
       "<div>\n",
       "<style scoped>\n",
       "    .dataframe tbody tr th:only-of-type {\n",
       "        vertical-align: middle;\n",
       "    }\n",
       "\n",
       "    .dataframe tbody tr th {\n",
       "        vertical-align: top;\n",
       "    }\n",
       "\n",
       "    .dataframe thead th {\n",
       "        text-align: right;\n",
       "    }\n",
       "</style>\n",
       "<table border=\"1\" class=\"dataframe\">\n",
       "  <thead>\n",
       "    <tr style=\"text-align: right;\">\n",
       "      <th></th>\n",
       "      <th>diff</th>\n",
       "    </tr>\n",
       "  </thead>\n",
       "  <tbody>\n",
       "    <tr>\n",
       "      <th>count</th>\n",
       "      <td>16.000000</td>\n",
       "    </tr>\n",
       "    <tr>\n",
       "      <th>mean</th>\n",
       "      <td>0.000688</td>\n",
       "    </tr>\n",
       "    <tr>\n",
       "      <th>std</th>\n",
       "      <td>0.014216</td>\n",
       "    </tr>\n",
       "    <tr>\n",
       "      <th>min</th>\n",
       "      <td>-0.026000</td>\n",
       "    </tr>\n",
       "    <tr>\n",
       "      <th>25%</th>\n",
       "      <td>-0.010000</td>\n",
       "    </tr>\n",
       "    <tr>\n",
       "      <th>50%</th>\n",
       "      <td>0.004000</td>\n",
       "    </tr>\n",
       "    <tr>\n",
       "      <th>75%</th>\n",
       "      <td>0.008500</td>\n",
       "    </tr>\n",
       "    <tr>\n",
       "      <th>max</th>\n",
       "      <td>0.029000</td>\n",
       "    </tr>\n",
       "  </tbody>\n",
       "</table>\n",
       "</div>"
      ],
      "text/plain": [
       "            diff\n",
       "count  16.000000\n",
       "mean    0.000688\n",
       "std     0.014216\n",
       "min    -0.026000\n",
       "25%    -0.010000\n",
       "50%     0.004000\n",
       "75%     0.008500\n",
       "max     0.029000"
      ]
     },
     "execution_count": 139,
     "metadata": {},
     "output_type": "execute_result"
    }
   ],
   "source": [
    "pd.DataFrame(vapor['diff']).describe()"
   ]
  },
  {
   "cell_type": "code",
   "execution_count": null,
   "metadata": {},
   "outputs": [],
   "source": []
  }
 ],
 "metadata": {
  "kernelspec": {
   "display_name": "Python 3",
   "language": "python",
   "name": "python3"
  },
  "language_info": {
   "codemirror_mode": {
    "name": "ipython",
    "version": 3
   },
   "file_extension": ".py",
   "mimetype": "text/x-python",
   "name": "python",
   "nbconvert_exporter": "python",
   "pygments_lexer": "ipython3",
   "version": "3.7.0"
  }
 },
 "nbformat": 4,
 "nbformat_minor": 2
}
