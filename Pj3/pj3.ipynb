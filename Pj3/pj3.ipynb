{
 "cells": [
  {
   "cell_type": "code",
   "execution_count": 9,
   "metadata": {
    "collapsed": true
   },
   "outputs": [],
   "source": [
    "import pandas as pd\n",
    "import matplotlib.pyplot as plt\n",
    "import numpy as np"
   ]
  },
  {
   "cell_type": "code",
   "execution_count": 10,
   "metadata": {},
   "outputs": [],
   "source": [
    "#############\n",
    "### Problem 1"
   ]
  },
  {
   "cell_type": "code",
   "execution_count": 11,
   "metadata": {},
   "outputs": [],
   "source": [
    "# nSet = pd.Series(np.array([1,2,3,5,10,30]))\n",
    "# thetaSet = pd.Series(np.array([1,5,50,100]))\n",
    "nSet = np.array([1,2,3,5,10,30])\n",
    "thetaSet = np.array([1,5,50,100])"
   ]
  },
  {
   "cell_type": "code",
   "execution_count": 12,
   "metadata": {},
   "outputs": [],
   "source": [
    "ntSet = np.zeros((nSet.size*thetaSet.size,2), dtype='int8')\n",
    "index: int = 0\n",
    "for n in nSet:\n",
    "    for theta in thetaSet:\n",
    "        ntSet[index] = [n, theta]\n",
    "        index += 1"
   ]
  },
  {
   "cell_type": "code",
   "execution_count": 25,
   "metadata": {},
   "outputs": [],
   "source": [
    "def Q1_solver(N, ntSet, rtype='print'):\n",
    "    # create sample sets\n",
    "    if rtype == 'table':\n",
    "        table_mle = np.zeros((nSet.size,thetaSet.size), dtype='float')\n",
    "        table_moment = np.zeros((nSet.size,thetaSet.size), dtype='float')\n",
    "        \n",
    "    for nt in ntSet:\n",
    "        # replicate for N times\n",
    "        n = nt[0]\n",
    "        theta = nt[1]\n",
    "        mleSet = np.zeros(N+1, dtype='float')\n",
    "        momentSet = np.zeros(N+1, dtype='float')\n",
    "        mse_mleCum = 0\n",
    "        mse_momentCum = 0\n",
    "        # Monte Carlo simulation\n",
    "        for i in range(N):\n",
    "            data = np.random.uniform(0,theta,n)\n",
    "            # mleSet build\n",
    "            mleSet[n] = np.max(data)\n",
    "            mse_mleCum += np.square(mleSet[n] - theta)/N\n",
    "            # momentSet build\n",
    "            momentSet[n] = 2*np.mean(data)\n",
    "            mse_momentCum += np.square(momentSet[n] - theta)/N\n",
    "        # Monte_carlo finish\n",
    "        if rtype == 'print':\n",
    "            print('n: ',n, 'theta: ',theta)\n",
    "            print('MSE of MLE Estimator: ',mse_mleCum)\n",
    "            print('MSE of Moment Estimator ', mse_momentCum)\n",
    "            print()\n",
    "        elif rtype == 'table':\n",
    "            from tabulate import tabulate\n",
    "            table_mle[np.where(nSet==1), np.where(thetaSet==1)] = mse_mleCum\n",
    "            table_moment[np.where(nSet==1), np.where(thetaSet==1)] = mse_momentCum\n",
    "                \n",
    "            \n",
    "            "
   ]
  },
  {
   "cell_type": "code",
   "execution_count": 26,
   "metadata": {},
   "outputs": [
    {
     "name": "stdout",
     "output_type": "stream",
     "text": [
      "n:  1 theta:  1\n",
      "MSE of MLE Estimator:  0.33394761859671485\n",
      "MSE of Moment Estimator  0.335045892442637\n",
      "\n"
     ]
    }
   ],
   "source": [
    "# Q1.b: n=1, theta=1\n",
    "Q1_solver(1000,np.array([[1,1]]))"
   ]
  },
  {
   "cell_type": "code",
   "execution_count": 56,
   "metadata": {},
   "outputs": [
    {
     "data": {
      "text/plain": [
       "array([[0, 0, 0, 0],\n",
       "       [0, 0, 0, 0],\n",
       "       [0, 0, 0, 0],\n",
       "       [0, 0, 0, 0],\n",
       "       [0, 0, 0, 0],\n",
       "       [0, 0, 0, 0]], dtype=int8)"
      ]
     },
     "execution_count": 56,
     "metadata": {},
     "output_type": "execute_result"
    }
   ],
   "source": [
    "table = np.zeros((6,4),dtype='int8')\n",
    "table"
   ]
  },
  {
   "cell_type": "code",
   "execution_count": 61,
   "metadata": {},
   "outputs": [
    {
     "name": "stdout",
     "output_type": "stream",
     "text": [
      "[[0 0 0 0]\n",
      " [0 1 0 0]\n",
      " [0 0 0 0]\n",
      " [0 0 0 0]\n",
      " [0 0 0 0]\n",
      " [0 0 0 0]]\n",
      "[1] [1]\n"
     ]
    }
   ],
   "source": [
    "table[1,1] = 1\n",
    "print(table)\n",
    "i,j = np.where(table==1)\n",
    "print(i,j)"
   ]
  },
  {
   "cell_type": "code",
   "execution_count": 70,
   "metadata": {},
   "outputs": [
    {
     "data": {
      "text/plain": [
       "array([[0]], dtype=int8)"
      ]
     },
     "execution_count": 70,
     "metadata": {},
     "output_type": "execute_result"
    }
   ],
   "source": [
    "i = np.where(nSet==1)\n",
    "j = np.where(thetaSet==1)\n",
    "table[i,j]"
   ]
  },
  {
   "cell_type": "code",
   "execution_count": null,
   "metadata": {},
   "outputs": [],
   "source": [
    "#############\n",
    "### Problem 2"
   ]
  }
 ],
 "metadata": {
  "kernelspec": {
   "display_name": "Python 3",
   "language": "python",
   "name": "python3"
  },
  "language_info": {
   "codemirror_mode": {
    "name": "ipython",
    "version": 3
   },
   "file_extension": ".py",
   "mimetype": "text/x-python",
   "name": "python",
   "nbconvert_exporter": "python",
   "pygments_lexer": "ipython3",
   "version": "3.7.2"
  }
 },
 "nbformat": 4,
 "nbformat_minor": 2
}
