{
 "cells": [
  {
   "cell_type": "code",
   "execution_count": 323,
   "metadata": {
    "collapsed": true
   },
   "outputs": [],
   "source": [
    "import pandas as pd\n",
    "import matplotlib.pyplot as plt\n",
    "import numpy as np"
   ]
  },
  {
   "cell_type": "code",
   "execution_count": 324,
   "metadata": {},
   "outputs": [],
   "source": [
    "#############\n",
    "### Problem 1"
   ]
  },
  {
   "cell_type": "code",
   "execution_count": 325,
   "metadata": {},
   "outputs": [],
   "source": [
    "# nSet = pd.Series(np.array([1,2,3,5,10,30]))\n",
    "# thetaSet = pd.Series(np.array([1,5,50,100]))\n",
    "nSet = np.array([1,2,3,5,10,30])\n",
    "thetaSet = np.array([1,5,50,100])"
   ]
  },
  {
   "cell_type": "code",
   "execution_count": 326,
   "metadata": {},
   "outputs": [],
   "source": [
    "ntSet = np.zeros((nSet.size*thetaSet.size,2), dtype='int8')\n",
    "index: int = 0\n",
    "for n in nSet:\n",
    "    for theta in thetaSet:\n",
    "        ntSet[index] = [n, theta]\n",
    "        index += 1"
   ]
  },
  {
   "cell_type": "code",
   "execution_count": 327,
   "metadata": {},
   "outputs": [],
   "source": [
    "def Q1_solver(N, ntSet, rtype='print'):\n",
    "    # create sample sets\n",
    "    if rtype == 'table':\n",
    "        table_mle = np.zeros((nSet.size,thetaSet.size), dtype='float')\n",
    "        table_moment = np.zeros((nSet.size,thetaSet.size), dtype='float')\n",
    "        \n",
    "    for nt in ntSet:\n",
    "        # replicate for N times\n",
    "        n = nt[0]\n",
    "        theta = nt[1]\n",
    "        mleSet = np.zeros(N+1, dtype='float')\n",
    "        momentSet = np.zeros(N+1, dtype='float')\n",
    "        mse_mleCum = 0\n",
    "        mse_momentCum = 0\n",
    "        # Monte Carlo simulation\n",
    "        for i in range(N):\n",
    "            data = np.random.uniform(0,theta,n)\n",
    "            # mleSet build\n",
    "            mleSet[n] = np.max(data)\n",
    "            mse_mleCum += np.square(mleSet[n] - theta)/N\n",
    "            # momentSet build\n",
    "            momentSet[n] = 2*np.mean(data)\n",
    "            mse_momentCum += np.square(momentSet[n] - theta)/N\n",
    "            \n",
    "        # Monte_carlo finish\n",
    "        if rtype == 'print':\n",
    "            print('n: ',n, 'theta: ',theta)\n",
    "            print('MSE of MLE Estimator: ',mse_mleCum)\n",
    "            print('MSE of Moment Estimator ', mse_momentCum)\n",
    "            print()\n",
    "            \n",
    "        elif rtype == 'table':\n",
    "            from tabulate import tabulate\n",
    "            ### how to concatenate 1d array with 2d array\n",
    "#             nSet[:, None].shape\n",
    "#             tmp = np.concatenate([nSet[:, None], table], axis=1)\n",
    "#             print('tmp: ', '\\n', tmp)\n",
    "#             np.concatenate([np.append([0], thetaSet)[None,:], tmp], axis=0)\n",
    "#             np.concatenate([np.append([0], thetaSet)[None,:], np.concatenate([nSet[:, None], table], axis=1)], axis=0)\n",
    "\n",
    "            table_mle[np.where(nSet==n), np.where(thetaSet==theta)] = mse_mleCum\n",
    "            table_moment[np.where(nSet==n), np.where(thetaSet==theta)] = mse_momentCum\n",
    "            # add n and theta to the table, get rid of cause we use pandas instead\n",
    "#             table_mle = np.concatenate([np.append([0], thetaSet)[None,:], np.concatenate([nSet[:, None], table_mle], axis=1)], axis=0)\n",
    "#             table_moment = np.concatenate([np.append([0], thetaSet)[None,:], np.concatenate([nSet[:, None], table_moment], axis=1)], axis=0)\n",
    "            # Now, we could print out the table\n",
    "    # End     \n",
    "    if rtype == 'table':\n",
    "        print('MSE of MLE Estimator:')\n",
    "        print(pd.DataFrame(table_mle, columns=['theta = %d' %tt for tt in thetaSet], index=['n = %d' %nn for nn in nSet]))\n",
    "        print()\n",
    "        print('MSE of Moment Estimator:')\n",
    "        print(pd.DataFrame(table_moment, columns=['theta = %d' %tt for tt in thetaSet], index=['n = %d' %nn for nn in nSet]))\n",
    "        \n",
    "        # graph output\n",
    "        import seaborn as sns\n",
    "        ax = pd.DataFrame(table_mle, columns=['theta = %d' %tt for tt in thetaSet], index=['n = %d' %nn for nn in nSet]).plot.line()\n",
    "        ax.set(ylabel='Mean Square Estimation', xlabel='full-line: MLE Estimator'+'\\n'+'dot-line: Moment Estimator')\n",
    "        pd.DataFrame(table_moment, columns=['theta = %d' %tt for tt in thetaSet], index=['n = %d' %nn for nn in nSet]).plot(\n",
    "            kind='line', ax=ax, style='--', title='MSE of two different Estimator')\n",
    "        \n",
    "        "
   ]
  },
  {
   "cell_type": "code",
   "execution_count": 328,
   "metadata": {},
   "outputs": [
    {
     "name": "stdout",
     "output_type": "stream",
     "text": [
      "MSE of MLE Estimator:\n",
      "        theta = 1  theta = 5  theta = 50  theta = 100\n",
      "n = 1    0.328683   8.392959  830.184301  3425.622491\n",
      "n = 2    0.175360   4.235684  431.753253  1698.554421\n",
      "n = 3    0.095352   2.517435  254.719628  1022.892023\n",
      "n = 5    0.049020   1.189317  127.664815   511.049070\n",
      "n = 10   0.016633   0.393447   36.778483   140.608309\n",
      "n = 30   0.002028   0.054051    4.977579    18.931541\n",
      "\n",
      "MSE of Moment Estimator:\n",
      "        theta = 1  theta = 5  theta = 50  theta = 100\n",
      "n = 1    0.346545   8.125655  811.567703  3387.960975\n",
      "n = 2    0.175256   3.825997  434.542471  1727.883350\n",
      "n = 3    0.099444   2.680590  280.582803  1103.939689\n",
      "n = 5    0.065445   1.618512  166.985298   674.159558\n",
      "n = 10   0.036153   0.842329   76.909923   337.110748\n",
      "n = 30   0.011416   0.282524   29.572692   119.994506\n"
     ]
    },
    {
     "data": {
      "image/png": "[encoded data removed]",
      "text/plain": [
       "<Figure size 432x288 with 1 Axes>"
      ]
     },
     "metadata": {
      "needs_background": "light"
     },
     "output_type": "display_data"
    }
   ],
   "source": [
    "Q1_solver(1000, ntSet, rtype='table')"
   ]
  },
  {
   "cell_type": "code",
   "execution_count": 329,
   "metadata": {},
   "outputs": [],
   "source": [
    "# Q1.b: n=1, theta=1\n",
    "# Q1_solver(1000,np.array([[1,1]]))"
   ]
  },
  {
   "cell_type": "code",
   "execution_count": 330,
   "metadata": {},
   "outputs": [],
   "source": [
    "# table = np.zeros((6,4),dtype='int8')\n",
    "# table"
   ]
  },
  {
   "cell_type": "code",
   "execution_count": 331,
   "metadata": {},
   "outputs": [],
   "source": [
    "# table[1,1] = 1\n",
    "# print(table)\n",
    "# i,j = np.where(table==1)\n",
    "# print(i,j)"
   ]
  },
  {
   "cell_type": "code",
   "execution_count": 332,
   "metadata": {},
   "outputs": [],
   "source": [
    "# i = np.where(nSet==1)\n",
    "# j = np.where(thetaSet==1)\n",
    "# table[i,j]"
   ]
  },
  {
   "cell_type": "code",
   "execution_count": 333,
   "metadata": {},
   "outputs": [],
   "source": [
    "# tmp = np.concatenate([np.append([0], thetaSet)[None,:], np.concatenate([nSet[:, None], table], axis=1)], axis=0)\n",
    "# from tabulate import tabulate\n",
    "# # print(tabulate(tmp, headers={'n'}, tablefmt='fancy_grid'))\n",
    "# pd.DataFrame(tmp,)"
   ]
  },
  {
   "cell_type": "code",
   "execution_count": 334,
   "metadata": {},
   "outputs": [],
   "source": [
    "# teams_list = [\"Man Utd\", \"Man City\", \"T Hotspur\"]\n",
    "# teams_count = [\"Man Utd-1\", \"Man City-1\", \"T Hotspur-1\"]\n",
    "# data = np.array([[1, 2, 1],\n",
    "#                  [0, 1, 0],\n",
    "#                  [2, 4, 2]])\n",
    "# pd.DataFrame(data, columns=teams_list, index=teams_count)"
   ]
  },
  {
   "cell_type": "code",
   "execution_count": 335,
   "metadata": {},
   "outputs": [],
   "source": [
    "#############\n",
    "### Problem 2"
   ]
  },
  {
   "cell_type": "code",
   "execution_count": 336,
   "metadata": {},
   "outputs": [
    {
     "data": {
      "text/plain": [
       "array([0.32338742])"
      ]
     },
     "execution_count": 336,
     "metadata": {},
     "output_type": "execute_result"
    }
   ],
   "source": [
    "# P2.b\n",
    "xSet = np.array([21.72, 14.65, 50.42, 28.78, 11.23])\n",
    "myTheta = np.array([5/np.sum(np.log(xSet))])\n",
    "myTheta"
   ]
  },
  {
   "cell_type": "code",
   "execution_count": 337,
   "metadata": {},
   "outputs": [],
   "source": [
    "# P2.c\n",
    "# from scipy.optimize import minimize\n",
    "# import math\n",
    "\n",
    "# def f(inp):\n",
    "#     tmp = 1\n",
    "#     t = inp[-1]\n",
    "#     xSet = inp[:-1]\n",
    "#     for x in xSet:\n",
    "#         if x < 1:\n",
    "#             tmp *= 0\n",
    "#         else:\n",
    "#             tmp *= t/(x**(t+1))\n",
    "#     return tmp\n",
    "# inp = np.array([21.72, 14.65, 50.42, 28.78, 11.23, 1])\n",
    "# # res = minimize(f, inp, method='nelder-mead', options={'xtol': 1e-8, 'disp': True})\n",
    "# res = minimize(f, inp, method='nelder-mead')\n",
    "# res"
   ]
  },
  {
   "cell_type": "code",
   "execution_count": 338,
   "metadata": {},
   "outputs": [
    {
     "data": {
      "text/plain": [
       " final_simplex: (array([[52.15      ],\n",
       "       [52.15009766]]), array([0., 0.]))\n",
       "           fun: 0.0\n",
       "       message: 'Optimization terminated successfully.'\n",
       "          nfev: 73\n",
       "           nit: 28\n",
       "        status: 0\n",
       "       success: True\n",
       "             x: array([52.15])"
      ]
     },
     "execution_count": 338,
     "metadata": {},
     "output_type": "execute_result"
    }
   ],
   "source": [
    "# P2.c\n",
    "from scipy.optimize import minimize\n",
    "import math\n",
    "\n",
    "def f(t):\n",
    "    tmp = 1\n",
    "    xSet =  np.array([21.72, 14.65, 50.42, 28.78, 11.23])\n",
    "    for x in xSet:\n",
    "        if x < 1:\n",
    "            tmp *= 0\n",
    "        else:\n",
    "            tmp *= t/(x**(t+1))\n",
    "    return tmp\n",
    "# res = minimize(f, inp, method='nelder-mead', options={'xtol': 1e-8, 'disp': True})\n",
    "res = minimize(f, np.array([1]), method='nelder-mead')\n",
    "res"
   ]
  },
  {
   "cell_type": "code",
   "execution_count": 339,
   "metadata": {},
   "outputs": [
    {
     "name": "stdout",
     "output_type": "stream",
     "text": [
      "t:  [0.32338742]  and function minimum value is  [4.59591893e-12]\n",
      "t:  [52.15]  and function minimum value is  [0.]\n"
     ]
    }
   ],
   "source": [
    "t2 = res.x\n",
    "\n",
    "def compute(t):\n",
    "    tmp = 1\n",
    "    for x in xSet:\n",
    "        if x < 1:\n",
    "            tmp *= 0\n",
    "        else:\n",
    "            tmp *= t/(x**(t+1))\n",
    "    print('t: ', t,' and function minimum value is ', tmp)\n",
    "#     print('t: %d and function minimum value is %d' %t %tmp)\n",
    "\n",
    "compute(myTheta)\n",
    "compute(t2)"
   ]
  },
  {
   "cell_type": "code",
   "execution_count": 340,
   "metadata": {},
   "outputs": [],
   "source": [
    "# P.2.c\n",
    "# seems not working\n",
    "# from scipy.optimize import minimize\n",
    "# import math\n",
    "\n",
    "# n = np.size(xSet)\n",
    "\n",
    "# def f(t):\n",
    "#     return n*np.log(t) - (t+1)*np.sum(np.log(xSet))\n",
    "\n",
    "# def f_der(t):\n",
    "#     return n/t-np.sum(np.log(xSet))\n",
    "\n",
    "# res = minimize(f, np.array([1.2]), method='BFGS', jac=f_der, options={'disp': True})\n",
    "# res"
   ]
  },
  {
   "cell_type": "code",
   "execution_count": 343,
   "metadata": {},
   "outputs": [
    {
     "name": "stdout",
     "output_type": "stream",
     "text": [
      "[4.60420690e-70 5.66219159e-61 1.67460852e-89 1.46750249e-76\n",
      " 7.75479403e-55]\n"
     ]
    },
    {
     "data": {
      "text/plain": [
       "1.3872194755429191e-55"
      ]
     },
     "execution_count": 343,
     "metadata": {},
     "output_type": "execute_result"
    }
   ],
   "source": [
    "# P2.d\n",
    "def f_compute(X):\n",
    "    x = np.zeros(np.shape(X), dtype='float')\n",
    "    for i in range(len(X)):\n",
    "        x[i] = t2/(X[i]**(t2+1))\n",
    "    return x\n",
    "fSet = f_compute(xSet)\n",
    "print(fSet)\n",
    "\n",
    "# st Error = standard deviation / sqrt(n)\n",
    "stError =  np.std(fSet)/np.sqrt(np.size(fSet))\n",
    "stError"
   ]
  },
  {
   "cell_type": "code",
   "execution_count": 360,
   "metadata": {},
   "outputs": [
    {
     "name": "stdout",
     "output_type": "stream",
     "text": [
      "95% CI for theta is: [-1.0, 1.3317306965212023e-53]\n"
     ]
    }
   ],
   "source": [
    "print('95% CI for theta is: [{}, {}]'.format(np.mean(fSet)-1,96*stError, np.mean(fSet)+1.96*stError))"
   ]
  }
 ],
 "metadata": {
  "kernelspec": {
   "display_name": "Python 3",
   "language": "python",
   "name": "python3"
  },
  "language_info": {
   "codemirror_mode": {
    "name": "ipython",
    "version": 3
   },
   "file_extension": ".py",
   "mimetype": "text/x-python",
   "name": "python",
   "nbconvert_exporter": "python",
   "pygments_lexer": "ipython3",
   "version": "3.7.2"
  }
 },
 "nbformat": 4,
 "nbformat_minor": 2
}
