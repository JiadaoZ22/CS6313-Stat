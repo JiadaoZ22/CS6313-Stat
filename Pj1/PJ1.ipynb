{
 "cells": [
  {
   "cell_type": "code",
   "execution_count": 171,
   "metadata": {
    "collapsed": true
   },
   "outputs": [],
   "source": [
    "##########\n",
    "#   P1\n",
    "##########\n",
    "%matplotlib inline\n",
    "import matplotlib.pyplot as plt\n",
    "import numpy as np\n",
    "from sympy import *\n",
    "\n",
    "from PIL import Image\n",
    "import pylab\n",
    "from scipy.optimize import curve_fit\n"
   ]
  },
  {
   "cell_type": "code",
   "execution_count": 172,
   "metadata": {},
   "outputs": [
    {
     "name": "stdout",
     "output_type": "stream",
     "text": [
      "0.396473251928996\n"
     ]
    }
   ],
   "source": [
    "# P1.1\n",
    "t = Symbol('t')\n",
    "f = 0.2*(exp(-0.1*t)-exp(-0.2*t))\n",
    "print(integrate(f,(t,15,oo)))"
   ]
  },
  {
   "cell_type": "code",
   "execution_count": 173,
   "metadata": {},
   "outputs": [
    {
     "name": "stderr",
     "output_type": "stream",
     "text": [
      "/anaconda3/lib/python3.7/site-packages/ipykernel_launcher.py:9: DeprecationWarning: object of type <class 'float'> cannot be safely interpreted as an integer.\n",
      "  if __name__ == '__main__':\n"
     ]
    },
    {
     "data": {
      "image/png": "[encoded data removed]",
      "text/plain": [
       "<Figure size 432x288 with 1 Axes>"
      ]
     },
     "metadata": {},
     "output_type": "display_data"
    }
   ],
   "source": [
    "# p1.2.2\n",
    "def MC_T_draw(iter_time):\n",
    "    t = np.array([np.maximum(np.random.exponential(10), np.random.exponential(10)) for x in range(iter_time)])\n",
    "    t = t.astype(int)\n",
    "    # draw hist\n",
    "    bin = np.arange(np.floor(t.min()),np.ceil(t.max()))\n",
    "    bin_density, bin_boarders, _ = plt.hist(t, bins=bin, density=True, label='hist')\n",
    "    # fit\n",
    "    xdata = np.linspace(0,bin_boarders[-1],iter_time/50)\n",
    "    def T_density(t):\n",
    "        return 0.2*(np.exp(-0.1*t)-np.exp(-0.2*t))\n",
    "    ydata = T_density(xdata)\n",
    "    # popt, _ = curve_fit(T_density, xdata, ydata)\n",
    "    plt.plot(xdata,ydata, label='PDF')\n",
    "    # plt.plot(xdata, T_density(x_interval_for_fit, *popt), label='fit')\n",
    "    plt.title(\"T's Histogram and PDF curve\")\n",
    "    plt.legend()\n",
    "    # plt.axis('on')\n",
    "    # frame = plt.gca()\n",
    "    # # y axis visible\n",
    "    # frame.axes.get_yaxis().set_visible(True)\n",
    "    # # x axis visible\n",
    "    # frame.axes.get_xaxis().set_visible(True)\n",
    "    plt.savefig('/Users/jiadao/Google Drive/19Spring/6313STAT/Pj1/1-3-100000.png')\n",
    "    plt.show()\n",
    "    return t, bin_density, bin_boarders, iter_time\n",
    "# run the function\n",
    "t, density, boarders, iter_time = MC_T_draw(100000)\n",
    "\n",
    "\n"
   ]
  },
  {
   "cell_type": "code",
   "execution_count": null,
   "metadata": {},
   "outputs": [],
   "source": [
    "\n",
    "# calculate E(T)\n",
    "np.mean(t)"
   ]
  },
  {
   "cell_type": "code",
   "execution_count": 176,
   "metadata": {},
   "outputs": [
    {
     "data": {
      "text/plain": [
       "0.36251"
      ]
     },
     "execution_count": 176,
     "metadata": {},
     "output_type": "execute_result"
    }
   ],
   "source": [
    "# probability of T >= 15\n",
    "tmp = 0\n",
    "for tt in t:\n",
    "    if tt > 15:\n",
    "        tmp += 1\n",
    "tmp/iter_time"
   ]
  },
  {
   "cell_type": "code",
   "execution_count": 4,
   "metadata": {},
   "outputs": [
    {
     "name": "stdout",
     "output_type": "stream",
     "text": [
      "3.1264\n",
      "Error rate： 0.004835971834996855\n"
     ]
    }
   ],
   "source": [
    "##################\n",
    "### P2\n",
    "##################\n",
    "import random \n",
    "import math\n",
    "def mypi(iter):\n",
    "    n=iter\n",
    "    # number of falling inside the circle\n",
    "    total=0   \n",
    "    for i in range(n):\n",
    "        x=random.random()\n",
    "        y=random.random()\n",
    "        if math.sqrt(x**2+y**2)<1.0:  \n",
    "            total+=1\n",
    "    # get the pi\n",
    "    ppi=4.0*total/n  \n",
    "    print(ppi)\n",
    "    print('Error rate：',abs(math.pi-ppi)/math.pi)\n",
    "    \n",
    "mypi(10000)"
   ]
  },
  {
   "cell_type": "code",
   "execution_count": null,
   "metadata": {},
   "outputs": [],
   "source": []
  }
 ],
 "metadata": {
  "kernelspec": {
   "display_name": "Python 2",
   "language": "python",
   "name": "python2"
  },
  "language_info": {
   "codemirror_mode": {
    "name": "ipython",
    "version": 2
   },
   "file_extension": ".py",
   "mimetype": "text/x-python",
   "name": "python",
   "nbconvert_exporter": "python",
   "pygments_lexer": "ipython2",
   "version": "2.7.15"
  }
 },
 "nbformat": 4,
 "nbformat_minor": 1
}
